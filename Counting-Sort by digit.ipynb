{
 "cells": [
  {
   "attachments": {},
   "cell_type": "markdown",
   "metadata": {},
   "source": [
    "实现Counting排序算法，按照列表内数字的不同位进行排序，如按照个位数，百位数，千位数排序。\n",
    "\n",
    "如数列[2024, 102, 13, 5], 按照十位数的大小进行排序结果为 [102, 5, 13, 2024]。\n",
    "\n",
    "排序后不改变与十位数大小无关的原数列顺序，如102在原数列中位居5之前，二者十位皆为0，所以重新排列的数列中，102还在5之前。"
   ]
  },
  {
   "attachments": {},
   "cell_type": "markdown",
   "metadata": {},
   "source": [
    "现有一范例数列：\n",
    "\n",
    "    [7, 2, 3, 9, 1, 2, 1, 1, 9, 5, 5, 7]\n",
    "\n",
    "具体算法实现如图所示：\n",
    "\n",
    "<p align=\"center\">\n",
    "  <img height= \"350\" width= \"550\" img src=\"counting_sort.png\" />\n",
    "</p>\n",
    "\n",
    "由于最大的数字只有9，为了方便计算，应用了一个可以容纳10个元素空间（0-9）的列表。\n",
    "\n",
    "步骤1：存储列表的初始值为0，对输入列表中的所有数字进行迭代，一旦出现数字i，存储列表中对应的第i个位置的值就会增加一。\n",
    "\n",
    "步骤2：对存储列表进行读取，从0开始，当第i个位置的值为n（n不等于0）时，将i写入输出列表n次。"
   ]
  },
  {
   "attachments": {},
   "cell_type": "markdown",
   "metadata": {},
   "source": [
    "代码实现如下："
   ]
  },
  {
   "cell_type": "code",
   "execution_count": null,
   "metadata": {},
   "outputs": [],
   "source": [
    "from typing import List\n",
    "\n",
    "def counting_sort(input_list:List[int], digit:int) -> List[int]:\n",
    "    \"\"\"Counting Sort implementation that sorts its input list based on the given $digits digit of the elements\n",
    "    in a stable manner, i.e., preserving previous order for equal elements.\n",
    "    This means that e.g. the list [2024, 102, 13, 5], if sorted by the tenth place, would be sorted to [102, 5, 13, 2024].\"\"\"\n",
    "    \n",
    "    #   Each bit could be 0 to 9, so a Hilfsfeld list of 9+1=10 elements is set\n",
    "    counting_buffer = [[] for _ in range(10)]\n",
    "    output_list = []\n",
    "    #   Iterate over each element of the input list\n",
    "    for i in input_list:\n",
    "        #   Find the value of the digit corresponding to the selected element\n",
    "        n = (i//digit)%10\n",
    "        #   Based on the value of the digit, the element is stored in Hilfsfeld list\n",
    "        counting_buffer[n].append(i)\n",
    "    #   Iterate over the Hilfsfeld list\n",
    "    for j in range(10):\n",
    "        #   Based on the ordering of the digits, the elements are reassembled into a 1-dimensional list.\n",
    "        if counting_buffer[j]:\n",
    "            output_list = output_list + counting_buffer[j]\n",
    "\n",
    "    return output_list\n"
   ]
  },
  {
   "cell_type": "code",
   "execution_count": null,
   "metadata": {},
   "outputs": [
    {
     "name": "stdout",
     "output_type": "stream",
     "text": [
      "[102, 5, 13, 2024]\n"
     ]
    }
   ],
   "source": [
    "test = [2024, 102, 13, 5]\n",
    "print(counting_sort(test,10))"
   ]
  }
 ],
 "metadata": {
  "kernelspec": {
   "display_name": "Python 3",
   "language": "python",
   "name": "python3"
  },
  "language_info": {
   "name": "python",
   "version": "3.10.8 (tags/v3.10.8:aaaf517, Oct 11 2022, 16:50:30) [MSC v.1933 64 bit (AMD64)]"
  },
  "orig_nbformat": 4,
  "vscode": {
   "interpreter": {
    "hash": "5ff9823a1bd50340545949ce1f198d405a5c040517918b30cba0306c8c6f3796"
   }
  }
 },
 "nbformat": 4,
 "nbformat_minor": 2
}
