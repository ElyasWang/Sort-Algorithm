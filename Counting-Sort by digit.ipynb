{
 "cells": [
  {
   "attachments": {},
   "cell_type": "markdown",
   "metadata": {},
   "source": [
    "Algorithm implementation steps：\n",
    "\n",
    "1. Find the largest and smallest elements in the list to be sorted\n",
    "\n",
    "2. count the number of occurrences of each element of the list with value i, and deposit it in the i-th position of the storage list C\n",
    "\n",
    "3. add up all the counts (starting from the first element in C, each item is added to the previous one)\n",
    "\n",
    "4. backfill the target list: place each element i in the new list C[i], and subtract 1 from C[i] for each element placed\n"
   ]
  },
  {
   "attachments": {},
   "cell_type": "markdown",
   "metadata": {},
   "source": [
    "Example:\n",
    "\n",
    "    [7, 2, 3, 9, 1, 2, 1, 1, 9, 5, 5, 7]\n",
    "\n",
    "The algorithm implementation steps are as follows:\n",
    "\n",
    "<p align=\"center\">\n",
    "  <img height= \"350\" width= \"550\" img src=\"counting_sort.png\" />\n",
    "</p>\n",
    "\n",
    "As shown above, because the maximum number is only 9, a list that can accommodate 10 elements space (0-9) is applied for the convenience of manual calculation.\n",
    "\n",
    "step 1: The initial value of the storage list is 0, and all the numbers in the input list are iterated, once the number i appears, the corresponding i-th position in the storage list will be added one.\n",
    "\n",
    "step 2: Iterate through the stored list, starting from 0, when the value of the i-th position is n(n not equal to 0), write n times i to the output list."
   ]
  },
  {
   "attachments": {},
   "cell_type": "markdown",
   "metadata": {},
   "source": [
    "Algorithm implementation:\n",
    "\n",
    "*(Implement the Counting sorting algorithm to sort the list by different digits, such as by first digit, 100th place, and 1000th place.)*\n",
    "\n",
    "*(For example [2024, 102, 13, 5], the result of sorting by 10th place is [102, 5, 13, 2024].)*\n",
    "\n",
    "*(Sorting does not change the order of the original list of numbers unrelated to the 10th place, such as 102 in the original list is before 5, both tenth place is 0, so in the new list, 102 is still before 5.)*\n"
   ]
  },
  {
   "cell_type": "code",
   "execution_count": null,
   "metadata": {},
   "outputs": [],
   "source": [
    "from typing import List\n",
    "\n",
    "def counting_sort(input_list:List[int], digit:int) -> List[int]:\n",
    "    \"\"\"Counting Sort implementation that sorts its input list based on the given $digits digit of the elements\n",
    "    in a stable manner, i.e., preserving previous order for equal elements.\n",
    "    This means that e.g. the list [2024, 102, 13, 5], if sorted by the tenth place, would be sorted to [102, 5, 13, 2024].\"\"\"\n",
    "    \n",
    "    #   Each bit could be 0 to 9, so a Hilfsfeld list of 9+1=10 elements is set\n",
    "    counting_buffer = [[] for _ in range(10)]\n",
    "    output_list = []\n",
    "    #   Iterate over each element of the input list\n",
    "    for i in input_list:\n",
    "        #   Find the value of the digit corresponding to the selected element\n",
    "        n = (i//digit)%10\n",
    "        #   Based on the value of the digit, the element is stored in Hilfsfeld list\n",
    "        counting_buffer[n].append(i)\n",
    "    #   Iterate over the Hilfsfeld list\n",
    "    for j in range(10):\n",
    "        #   Based on the ordering of the digits, the elements are reassembled into a 1-dimensional list.\n",
    "        if counting_buffer[j]:\n",
    "            output_list = output_list + counting_buffer[j]\n",
    "\n",
    "    return output_list\n"
   ]
  },
  {
   "cell_type": "code",
   "execution_count": null,
   "metadata": {},
   "outputs": [
    {
     "name": "stdout",
     "output_type": "stream",
     "text": [
      "[102, 5, 13, 2024]\n"
     ]
    }
   ],
   "source": [
    "test = [2024, 102, 13, 5]\n",
    "print(counting_sort(test,10))"
   ]
  }
 ],
 "metadata": {
  "kernelspec": {
   "display_name": "Python 3",
   "language": "python",
   "name": "python3"
  },
  "language_info": {
   "name": "python",
   "version": "3.10.8 (tags/v3.10.8:aaaf517, Oct 11 2022, 16:50:30) [MSC v.1933 64 bit (AMD64)]"
  },
  "orig_nbformat": 4,
  "vscode": {
   "interpreter": {
    "hash": "5ff9823a1bd50340545949ce1f198d405a5c040517918b30cba0306c8c6f3796"
   }
  }
 },
 "nbformat": 4,
 "nbformat_minor": 2
}
