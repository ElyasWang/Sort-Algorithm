{
 "cells": [
  {
   "attachments": {},
   "cell_type": "markdown",
   "metadata": {},
   "source": [
    "This Radix sorting algorithm is implemented through Counting sorting algorithm. \n",
   ]
  },
  {
   "attachments": {},
   "cell_type": "markdown",
   "metadata": {},
   "source": [
    "Example: \n",
    "\n",
    "    [132, 754, 23, 998, 1092, 2102, 2408, 43, 201, 1, 9, 124]\n",
    "\n",
    "Implementation process: \n",
    "\n",
    "<p align=\"center\">\n",
    "  <img height= \"350\" width= \"550\" img src=\"radix_sort.png\" />\n",
    "</p>\n",
    "\n",
    "As shown above, start comparing from the 1st place, since the largest number has 4 digits, so compare until the 1000th place. In each comparison, the previous order is preserved for the equal elements. \n",
   ]
  },
  {
   "attachments": {},
   "cell_type": "markdown",
   "metadata": {},
   "source": [
    "Code implementation: "
   ]
  },
  {
   "cell_type": "code",
   "execution_count": null,
   "metadata": {},
   "outputs": [],
   "source": [
    "from typing import List\n",
    "\n",
    "def counting_sort(input_list:List[int], digit:int) -> List[int]:\n",
    "    \"\"\"Counting Sort implementation that sorts its input list based on the given $digits digit of the elements\n",
    "    in a stable manner, i.e., preserving previous order for equal elements.\n",
    "    This means that e.g. the list [2024, 102, 13, 5], if sorted by the tenth place, would be sorted to [102, 5, 13, 2024].\"\"\"\n",
    "    \n",
    "    #   Each bit could be 0 to 9, so a Hilfsfeld list of 9+1=10 elements is set\n",
    "    counting_buffer = [[] for _ in range(10)]\n",
    "    output_list = []\n",
    "    #   Iterate over each element of the input list\n",
    "    for i in input_list:\n",
    "        #   Find the value of the digit corresponding to the selected element\n",
    "        n = (i//digit)%10\n",
    "        #   Based on the value of the digit, the element is stored in Hilfsfeld list\n",
    "        counting_buffer[n].append(i)\n",
    "    #   Iterate over the Hilfsfeld list\n",
    "    for j in range(10):\n",
    "        #   Based on the ordering of the digits, the elements are reassembled into a 1-dimensional list.\n",
    "        if counting_buffer[j]:\n",
    "            output_list = output_list + counting_buffer[j]\n",
    "\n",
    "    return output_list\n"
   ]
  },
  {
   "cell_type": "code",
   "execution_count": null,
   "metadata": {},
   "outputs": [],
   "source": [
    "from typing import List\n",
    "\n",
    "def radix_sort(input_list:List[int]) -> List[int]:\n",
    "    \"\"\"Radix Sort implementation that sorts its input list by iteratively sorting by its digits.\"\"\"\n",
    "    \n",
    "    #   Find the number with the most digits in the list\n",
    "    list_max = max(input_list)\n",
    "    #   Calculate the number of digits\n",
    "    digit_max = len(str(list_max))\n",
    "    #   Sorting from the first digit of the number\n",
    "    digit = 1\n",
    "    #   Sorting from 1st place to highest place\n",
    "    for i in range(digit_max):\n",
    "        sort_list = counting_sort(input_list, digit)\n",
    "        input_list = sort_list\n",
    "        digit = digit * 10    \n",
    "\n",
    "    return input_list"
   ]
  },
  {
   "cell_type": "code",
   "execution_count": null,
   "metadata": {},
   "outputs": [
    {
     "name": "stdout",
     "output_type": "stream",
     "text": [
      "[1, 9, 23, 43, 124, 132, 201, 754, 998, 1092, 2102, 2408]\n",
      "[0, 0, 0, 9]\n",
      "[0, 2, 5, 123, 1230832403]\n"
     ]
    }
   ],
   "source": [
    "l1 = [132, 754, 23, 998, 1092, 2102, 2408, 43, 201, 1, 9, 124]\n",
    "l2 = [0, 9, 0, 0]\n",
    "l3 = [1230832403, 123, 2, 0, 5]\n",
    "\n",
    "print(radix_sort(l1))\n",
    "print(radix_sort(l2))\n",
    "print(radix_sort(l3))"
   ]
  }
 ],
 "metadata": {
  "kernelspec": {
   "display_name": "Python 3",
   "language": "python",
   "name": "python3"
  },
  "language_info": {
   "name": "python",
   "version": "3.10.8 (tags/v3.10.8:aaaf517, Oct 11 2022, 16:50:30) [MSC v.1933 64 bit (AMD64)]"
  },
  "orig_nbformat": 4,
  "vscode": {
   "interpreter": {
    "hash": "5ff9823a1bd50340545949ce1f198d405a5c040517918b30cba0306c8c6f3796"
   }
  }
 },
 "nbformat": 4,
 "nbformat_minor": 2
}
